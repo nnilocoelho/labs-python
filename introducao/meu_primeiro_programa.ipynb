{
  "nbformat": 4,
  "nbformat_minor": 0,
  "metadata": {
    "colab": {
      "name": "meu-primeiro-programa.ipynb",
      "provenance": [],
      "collapsed_sections": [],
      "authorship_tag": "ABX9TyNlKZiCqt/wkgd9/ediLX2H",
      "include_colab_link": true
    },
    "kernelspec": {
      "name": "python3",
      "display_name": "Python 3"
    },
    "language_info": {
      "name": "python"
    }
  },
  "cells": [
    {
      "cell_type": "markdown",
      "metadata": {
        "id": "view-in-github",
        "colab_type": "text"
      },
      "source": [
        "<a href=\"https://colab.research.google.com/github/nnilocoelho/labs-python/blob/master/introducao/meu_primeiro_programa.ipynb\" target=\"_parent\"><img src=\"https://colab.research.google.com/assets/colab-badge.svg\" alt=\"Open In Colab\"/></a>"
      ]
    },
    {
      "cell_type": "code",
      "metadata": {
        "colab": {
          "base_uri": "https://localhost:8080/"
        },
        "id": "VQ2HskAg3L6N",
        "outputId": "8ee4ac62-113a-407c-f7af-cce1fddcd502"
      },
      "source": [
        "# MEU PRIMEIRO PROGRAMA\n",
        "a = 1\n",
        "b = 2\n",
        "c = a + b\n",
        "print(c)"
      ],
      "execution_count": 4,
      "outputs": [
        {
          "output_type": "stream",
          "name": "stdout",
          "text": [
            "3\n"
          ]
        }
      ]
    },
    {
      "cell_type": "code",
      "metadata": {
        "colab": {
          "base_uri": "https://localhost:8080/"
        },
        "id": "OCXNW24144_Y",
        "outputId": "f5db20ef-91c1-457a-a4b4-637402292170"
      },
      "source": [
        "# ENTRADA DE DADOS\n",
        "nome = input('Insira o seu nome: ')\n",
        "idade = int(input('Insira a sua idade: '))\n",
        "print(f'Seu nome é {nome} e a sua idade é {idade}')"
      ],
      "execution_count": 5,
      "outputs": [
        {
          "output_type": "stream",
          "name": "stdout",
          "text": [
            "Insira o seu nome: Python\n",
            "Insira a sua idade: 30\n",
            "Seu nome é Python e a sua idade é 30\n"
          ]
        }
      ]
    }
  ]
}