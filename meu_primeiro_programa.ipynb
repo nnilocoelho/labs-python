{
  "nbformat": 4,
  "nbformat_minor": 0,
  "metadata": {
    "colab": {
      "name": "meu-primeiro-programa.ipynb",
      "provenance": [],
      "authorship_tag": "ABX9TyOIRLdMeo9Re8mCVpCkQ/F5",
      "include_colab_link": true
    },
    "kernelspec": {
      "name": "python3",
      "display_name": "Python 3"
    },
    "language_info": {
      "name": "python"
    }
  },
  "cells": [
    {
      "cell_type": "markdown",
      "metadata": {
        "id": "view-in-github",
        "colab_type": "text"
      },
      "source": [
        "<a href=\"https://colab.research.google.com/github/nnilocoelho/labs-python/blob/master/meu_primeiro_programa.ipynb\" target=\"_parent\"><img src=\"https://colab.research.google.com/assets/colab-badge.svg\" alt=\"Open In Colab\"/></a>"
      ]
    },
    {
      "cell_type": "code",
      "metadata": {
        "colab": {
          "base_uri": "https://localhost:8080/"
        },
        "id": "woTe_bGV19vC",
        "outputId": "14f8860a-3b2a-4d43-c3be-dc76517d0445"
      },
      "source": [
        "# MEU PRIMEIRO PROGRAMA\n",
        "a = 2\n",
        "b = 4\n",
        "c = a + b\n",
        "print(c)"
      ],
      "execution_count": 1,
      "outputs": [
        {
          "output_type": "stream",
          "name": "stdout",
          "text": [
            "6\n"
          ]
        }
      ]
    }
  ]
}