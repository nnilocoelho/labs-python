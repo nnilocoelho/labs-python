{
  "nbformat": 4,
  "nbformat_minor": 0,
  "metadata": {
    "colab": {
      "name": "matematicos.ipynb",
      "provenance": [],
      "authorship_tag": "ABX9TyPYpRs+zagfwupLFYtyIvDg"
    },
    "kernelspec": {
      "name": "python3",
      "display_name": "Python 3"
    },
    "language_info": {
      "name": "python"
    }
  },
  "cells": [
    {
      "cell_type": "markdown",
      "metadata": {
        "id": "01N0IffUoN7n"
      },
      "source": [
        "Operadores e Operações Matemáticas em Python\n",
        "\n",
        "| Operador  |  Operação  |\n",
        "| ------------------- | ------------------- |\n",
        "|  + |  Adição |\n",
        "|  - |  Subtração |\n",
        "|  * |  Multiplicação |\n",
        "|  / |  Divisão com resultado fracionário|\n",
        "|  // | Divisão com resultados inteiros |\n",
        "|  % | Módulo ou resto |\n",
        "|  ** | Exponenciação ou potenciação |\n"
      ]
    },
    {
      "cell_type": "code",
      "metadata": {
        "colab": {
          "base_uri": "https://localhost:8080/"
        },
        "id": "q9R3ZucjoG7u",
        "outputId": "470273ce-4b43-4c58-f8fc-c57cd4a292f1"
      },
      "source": [
        "# ADIÇÃO\n",
        "a = 2\n",
        "b = 3\n",
        "adicao = a + b\n",
        "print(adicao)"
      ],
      "execution_count": 1,
      "outputs": [
        {
          "output_type": "stream",
          "name": "stdout",
          "text": [
            "5\n"
          ]
        }
      ]
    },
    {
      "cell_type": "code",
      "metadata": {
        "colab": {
          "base_uri": "https://localhost:8080/"
        },
        "id": "7gPs3wGjpbdC",
        "outputId": "5bbeb8c7-6067-44b5-db26-5b7b53c7f873"
      },
      "source": [
        "# SUBTRAÇÃO\n",
        "c = 5\n",
        "d = 3\n",
        "subtracao = c - d\n",
        "print(subtracao)"
      ],
      "execution_count": 2,
      "outputs": [
        {
          "output_type": "stream",
          "name": "stdout",
          "text": [
            "2\n"
          ]
        }
      ]
    },
    {
      "cell_type": "code",
      "metadata": {
        "colab": {
          "base_uri": "https://localhost:8080/"
        },
        "id": "Z1X41CJjpeZ0",
        "outputId": "5786635d-f691-433d-9ef3-e0a513fc7781"
      },
      "source": [
        "# MULTIPLICAÇÃO\n",
        "e = 2\n",
        "f = 10\n",
        "multiplicacao = e * f\n",
        "print(multiplicacao)"
      ],
      "execution_count": 3,
      "outputs": [
        {
          "output_type": "stream",
          "name": "stdout",
          "text": [
            "20\n"
          ]
        }
      ]
    },
    {
      "cell_type": "code",
      "metadata": {
        "colab": {
          "base_uri": "https://localhost:8080/"
        },
        "id": "rOqTJ8AkphOz",
        "outputId": "fbdd4c88-f058-4096-e404-15426ee206ce"
      },
      "source": [
        "# DIVISÃO COM RESULTADO FRACIONARIO\n",
        "g = 10\n",
        "h = 4\n",
        "divisao = g / h\n",
        "print(divisao)"
      ],
      "execution_count": 4,
      "outputs": [
        {
          "output_type": "stream",
          "name": "stdout",
          "text": [
            "2.5\n"
          ]
        }
      ]
    },
    {
      "cell_type": "code",
      "metadata": {
        "colab": {
          "base_uri": "https://localhost:8080/"
        },
        "id": "TJgnuJbhpkQ8",
        "outputId": "3ad0a711-b6dc-49be-b965-baf8f1bce5fb"
      },
      "source": [
        "# DIVISÃO COM RESULTADO INTEIRO\n",
        "i = 10\n",
        "j = 4\n",
        "divisao = i // j\n",
        "print(divisao)"
      ],
      "execution_count": 5,
      "outputs": [
        {
          "output_type": "stream",
          "name": "stdout",
          "text": [
            "2\n"
          ]
        }
      ]
    },
    {
      "cell_type": "code",
      "metadata": {
        "colab": {
          "base_uri": "https://localhost:8080/"
        },
        "id": "K_0pv_Gfpnbi",
        "outputId": "0cc7c628-ac7c-4919-93f9-5674b8811a42"
      },
      "source": [
        "# MÓDULO OU RESTO\n",
        "k = 16\n",
        "l = 7\n",
        "modulo = k % l\n",
        "print(modulo)"
      ],
      "execution_count": 6,
      "outputs": [
        {
          "output_type": "stream",
          "name": "stdout",
          "text": [
            "2\n"
          ]
        }
      ]
    },
    {
      "cell_type": "code",
      "metadata": {
        "colab": {
          "base_uri": "https://localhost:8080/"
        },
        "id": "swvGptuwppsX",
        "outputId": "d208ce94-d673-4f04-92f8-c26be7ca90da"
      },
      "source": [
        "# POTENCIAÇÃO\n",
        "m = 2\n",
        "n = 3\n",
        "potencia = m ** n\n",
        "print(potencia)"
      ],
      "execution_count": 7,
      "outputs": [
        {
          "output_type": "stream",
          "name": "stdout",
          "text": [
            "8\n"
          ]
        }
      ]
    }
  ]
}